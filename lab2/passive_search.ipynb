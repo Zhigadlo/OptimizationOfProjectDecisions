{
 "cells": [
  {
   "cell_type": "code",
   "execution_count": 15,
   "metadata": {},
   "outputs": [],
   "source": [
    "import numpy as np\n",
    "import matplotlib.pyplot as plt"
   ]
  },
  {
   "cell_type": "code",
   "execution_count": 16,
   "metadata": {},
   "outputs": [],
   "source": [
    "def function(x):\n",
    "    return 10 * np.cos(x) + np.exp(x)"
   ]
  },
  {
   "cell_type": "code",
   "execution_count": 17,
   "metadata": {},
   "outputs": [],
   "source": [
    "def get_x_array(a, b, N, e):\n",
    "    x = []\n",
    "    if N % 2 != 0:\n",
    "        for i in range(1, N+1):\n",
    "            new_x = a + i * (b - a)/(N + 1)\n",
    "            x.append(new_x)\n",
    "    else:\n",
    "        for i in range(1,N+1,2):\n",
    "            x2 = a + i*(b-a)/(N/2+1)\n",
    "            x1 = x2 - e\n",
    "            x.append(x1)\n",
    "            x.append(x2)\n",
    "    \n",
    "    return x"
   ]
  },
  {
   "cell_type": "code",
   "execution_count": 18,
   "metadata": {},
   "outputs": [],
   "source": [
    "def passive_search(a, b, N, e):\n",
    "    x = get_x_array(a, b, N, e)\n",
    "\n",
    "    fx = []\n",
    "\n",
    "    for i in range(0, N):\n",
    "        fx.append(function(x[i]))\n",
    "\n",
    "    j = np.argmin(fx)\n",
    "    x_pr = x[j]\n",
    "\n",
    "    return x_pr"
   ]
  },
  {
   "cell_type": "code",
   "execution_count": 19,
   "metadata": {},
   "outputs": [],
   "source": [
    "a = 2\n",
    "b = 10\n",
    "N = 40\n",
    "e = 0.001"
   ]
  },
  {
   "cell_type": "code",
   "execution_count": 20,
   "metadata": {},
   "outputs": [
    {
     "name": "stdout",
     "output_type": "stream",
     "text": [
      "2.379952380952381\n"
     ]
    }
   ],
   "source": [
    "min_x = passive_search(a, b, N, e)\n",
    "print(min_x)"
   ]
  },
  {
   "cell_type": "code",
   "execution_count": 21,
   "metadata": {},
   "outputs": [
    {
     "data": {
      "text/plain": [
       "<matplotlib.collections.PathCollection at 0x23ad81f16c0>"
      ]
     },
     "execution_count": 21,
     "metadata": {},
     "output_type": "execute_result"
    },
    {
     "data": {
      "image/png": "[encoded data removed]",
      "text/plain": [
       "<Figure size 640x480 with 1 Axes>"
      ]
     },
     "metadata": {},
     "output_type": "display_data"
    }
   ],
   "source": [
    "x = get_x_array(a, b, N, e)\n",
    "y = []\n",
    "[y.append(function(i)) for i in x]\n",
    "plt.plot(x, y, color='green')\n",
    "plt.scatter(min_x, function(min_x), color='red')"
   ]
  }
 ],
 "metadata": {
  "kernelspec": {
   "display_name": "Python 3",
   "language": "python",
   "name": "python3"
  },
  "language_info": {
   "codemirror_mode": {
    "name": "ipython",
    "version": 3
   },
   "file_extension": ".py",
   "mimetype": "text/x-python",
   "name": "python",
   "nbconvert_exporter": "python",
   "pygments_lexer": "ipython3",
   "version": "3.10.10"
  },
  "orig_nbformat": 4,
  "vscode": {
   "interpreter": {
    "hash": "bdd3ba0a61a3359ef2c8385a88815f5ebd8e6648173c56862eb6e0bcee6b2f4b"
   }
  }
 },
 "nbformat": 4,
 "nbformat_minor": 2
}
