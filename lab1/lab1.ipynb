{
 "cells": [
  {
   "cell_type": "code",
   "execution_count": 1,
   "metadata": {},
   "outputs": [],
   "source": [
    "import numpy as np\n",
    "import itertools\n",
    "import numpy.ma as ma\n",
    "import random as rnd"
   ]
  },
  {
   "cell_type": "code",
   "execution_count": 2,
   "metadata": {},
   "outputs": [],
   "source": [
    "alph = {\n",
    "        'a' : 1, \n",
    "        'b' : 2, \n",
    "        'c' : 3, \n",
    "        'd' : 4, \n",
    "        'e' : 5, \n",
    "        'f' : 6, \n",
    "        'g' : 7, \n",
    "        'h' : 8, \n",
    "        'i' : 9, \n",
    "        'j' : 10, \n",
    "        'k' : 11, \n",
    "        'l' : 12, \n",
    "        'm' : 13, \n",
    "        'n' : 14, \n",
    "        'o' : 15, \n",
    "        'p' : 16, \n",
    "        'q' : 17, \n",
    "        'r' : 18, \n",
    "        's' : 19, \n",
    "        't' : 20, \n",
    "        'u' : 21, \n",
    "        'v' : 22, \n",
    "        'w' : 23, \n",
    "        'x' : 24, \n",
    "        'y' : 25, \n",
    "        'z' : 26\n",
    "    }"
   ]
  },
  {
   "cell_type": "code",
   "execution_count": 3,
   "metadata": {},
   "outputs": [],
   "source": [
    "p1 = [0, alph['z'], alph['h'], alph['o'], alph['g']]\n",
    "p2 = [alph['z'], 0, alph['o'], alph['l'], alph['v']]\n",
    "p3 = [alph['h'], alph['o'], 0, alph['l'], alph['a']]\n",
    "p4 = [alph['o'], alph['l'], alph['l'], 0, alph['d']]\n",
    "p5 = [alph['g'], alph['v'], alph['a'], alph['d'], 0]\n",
    "P = np.array([p1, p2, p3, p4, p5])"
   ]
  },
  {
   "cell_type": "code",
   "execution_count": 4,
   "metadata": {},
   "outputs": [],
   "source": [
    "def greedySearch(matrix, cur_indx = 0):\n",
    "    start_indx = cur_indx\n",
    "    path = []\n",
    "    time = 0\n",
    "    for _ in range(len(matrix)): \n",
    "        row = matrix[cur_indx]\n",
    "        sub_row = np.copy(row)\n",
    "\n",
    "        for i in path:\n",
    "            sub_row[i] = 0\n",
    "\n",
    "        min_indx = np.argmin(ma.masked_where(sub_row==0, sub_row))\n",
    "            \n",
    "        path.append(cur_indx)\n",
    "        cur_indx = min_indx\n",
    "    \n",
    "    path.append(start_indx)\n",
    "\n",
    "    for i in range(len(path)-1):\n",
    "        time += matrix[path[i]][path[i+1]]\n",
    "    return path, time"
   ]
  },
  {
   "cell_type": "code",
   "execution_count": 5,
   "metadata": {},
   "outputs": [
    {
     "name": "stdout",
     "output_type": "stream",
     "text": [
      "[[ 0 26  8 15  7]\n",
      " [26  0 15 12 22]\n",
      " [ 8 15  0 12  1]\n",
      " [15 12 12  0  4]\n",
      " [ 7 22  1  4  0]]\n",
      "greedy search with matrix 5x5\n",
      "start id = 0\n",
      "time = 58\n",
      "path = [1 5 3 4 2 1]\n",
      "-------------------\n",
      "start id = 1\n",
      "time = 51\n",
      "path = [2 4 5 3 1 2]\n",
      "-------------------\n",
      "start id = 2\n",
      "time = 51\n",
      "path = [3 5 4 2 1 3]\n",
      "-------------------\n",
      "start id = 3\n",
      "time = 51\n",
      "path = [4 5 3 1 2 4]\n",
      "-------------------\n",
      "start id = 4\n",
      "time = 58\n",
      "path = [5 3 1 4 2 5]\n",
      "-------------------\n"
     ]
    }
   ],
   "source": [
    "print(P)\n",
    "print('greedy search with matrix 5x5')\n",
    "for k in range(5):\n",
    "    path, time = greedySearch(P, k)\n",
    "    print('start id = {}'.format(k))\n",
    "    print('time = {0}'.format(time))\n",
    "    print('path = {0}'.format(np.array(path)+1))\n",
    "    print(\"-------------------\")"
   ]
  },
  {
   "cell_type": "code",
   "execution_count": 6,
   "metadata": {},
   "outputs": [],
   "source": [
    "matrix_random = np.zeros((10, 10))\n",
    "np.fill_diagonal(matrix_random, 34)\n",
    "matrix_random.tolist()\n",
    "\n",
    "for i in range(10):\n",
    "    for j in range(10):\n",
    "        if(j <= i - 1):\n",
    "            matrix_random[i, j] = rnd.randint(1, 33)\n",
    "            matrix_random[j, i] = matrix_random[i, j]\n"
   ]
  },
  {
   "cell_type": "code",
   "execution_count": 7,
   "metadata": {},
   "outputs": [
    {
     "name": "stdout",
     "output_type": "stream",
     "text": [
      "greedy search with matrix 10x10\n",
      "time = 82.0\n",
      "path = [4, 2, 5, 7, 9, 0, 6, 1, 3, 8, 4]\n"
     ]
    }
   ],
   "source": [
    "path, time = greedySearch(matrix_random, k)\n",
    "print('greedy search with matrix 10x10')\n",
    "print('time = {0}'.format(time))\n",
    "print('path = {0}'.format(path))"
   ]
  },
  {
   "cell_type": "code",
   "execution_count": 8,
   "metadata": {},
   "outputs": [],
   "source": [
    "def FullSearch(matrix):\n",
    "    path = np.arange(len(matrix))\n",
    "    path_variations = itertools.permutations(path)\n",
    "    best_path = np.arange(len(matrix))\n",
    "    best_time = 100000\n",
    "    max_time = 0\n",
    "    for new_path in path_variations:\n",
    "        new_time = 0\n",
    "        for j in range(len(new_path)):\n",
    "            if j != len(new_path)-1:\n",
    "                new_time += matrix[new_path[j]][new_path[j+1]]\n",
    "            else:\n",
    "                new_time += matrix[new_path[j]][new_path[0]]\n",
    "        if new_time < best_time:\n",
    "            best_time = new_time\n",
    "            best_path = new_path\n",
    "            best_path = np.append(best_path, new_path[0])\n",
    "        \n",
    "        if new_time > max_time:\n",
    "            max_time = new_time\n",
    "    \n",
    "    return best_path, best_time, max_time\n"
   ]
  },
  {
   "cell_type": "code",
   "execution_count": 9,
   "metadata": {},
   "outputs": [
    {
     "name": "stdout",
     "output_type": "stream",
     "text": [
      "[[ 0 26  8 15  7]\n",
      " [26  0 15 12 22]\n",
      " [ 8 15  0 12  1]\n",
      " [15 12 12  0  4]\n",
      " [ 7 22  1  4  0]]\n",
      "full search with matrix 5x5\n",
      "best time = 46\n",
      "max time = 76\n",
      "best path = [1 3 2 4 5 1]\n"
     ]
    }
   ],
   "source": [
    "path, best_time, max_time = FullSearch(P)\n",
    "print(P)\n",
    "print('full search with matrix 5x5')\n",
    "print('best time = {0}'.format(best_time))\n",
    "print('max time = {}'.format(max_time))\n",
    "print('best path = {0}'.format(np.array(path)+1))"
   ]
  }
 ],
 "metadata": {
  "kernelspec": {
   "display_name": "Python 3",
   "language": "python",
   "name": "python3"
  },
  "language_info": {
   "codemirror_mode": {
    "name": "ipython",
    "version": 3
   },
   "file_extension": ".py",
   "mimetype": "text/x-python",
   "name": "python",
   "nbconvert_exporter": "python",
   "pygments_lexer": "ipython3",
   "version": "3.10.10"
  },
  "orig_nbformat": 4,
  "vscode": {
   "interpreter": {
    "hash": "bdd3ba0a61a3359ef2c8385a88815f5ebd8e6648173c56862eb6e0bcee6b2f4b"
   }
  }
 },
 "nbformat": 4,
 "nbformat_minor": 2
}
