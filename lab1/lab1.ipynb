{
 "cells": [
  {
   "cell_type": "code",
   "execution_count": 203,
   "metadata": {},
   "outputs": [],
   "source": [
    "import numpy as np"
   ]
  },
  {
   "cell_type": "code",
   "execution_count": null,
   "metadata": {},
   "outputs": [],
   "source": [
    "alph = {\n",
    "        'a' : 1, \n",
    "        'b' : 2, \n",
    "        'c' : 3, \n",
    "        'd' : 4, \n",
    "        'e' : 5, \n",
    "        'f' : 6, \n",
    "        'g' : 7, \n",
    "        'h' : 8, \n",
    "        'i' : 9, \n",
    "        'j' : 10, \n",
    "        'k' : 11, \n",
    "        'l' : 12, \n",
    "        'm' : 13, \n",
    "        'n' : 14, \n",
    "        'o' : 15, \n",
    "        'p' : 16, \n",
    "        'q' : 17, \n",
    "        'r' : 18, \n",
    "        's' : 19, \n",
    "        't' : 20, \n",
    "        'u' : 21, \n",
    "        'v' : 22, \n",
    "        'w' : 23, \n",
    "        'x' : 24, \n",
    "        'y' : 25, \n",
    "        'z' : 26\n",
    "    }"
   ]
  },
  {
   "cell_type": "code",
   "execution_count": 204,
   "metadata": {},
   "outputs": [],
   "source": [
    "p1 = [0, alph['z'], alph['h'], alph['o'], alph['g']]\n",
    "p2 = [alph['z'], 0, alph['o'], alph['l'], alph['v']]\n",
    "p3 = [alph['h'], alph['o'], 0, alph['l'], alph['a']]\n",
    "p4 = [alph['o'], alph['l'], alph['l'], 0, alph['d']]\n",
    "p5 = [alph['g'], alph['v'], alph['a'], alph['d'], 0]\n",
    "P = [p1, p2, p3, p4, p5]"
   ]
  },
  {
   "cell_type": "code",
   "execution_count": 205,
   "metadata": {},
   "outputs": [],
   "source": [
    "def greedySearch(matrix, cur_indx = 0):\n",
    "    path = []\n",
    "    readed_col = []\n",
    "    for _ in range(len(matrix)):\n",
    "        sub_row = matrix[cur_indx].copy()\n",
    "        for r in readed_col:\n",
    "            sub_row.remove(matrix[cur_indx][r])\n",
    "        if(sub_row.count(0) > 0):\n",
    "            sub_row.remove(0)\n",
    "        if(len(sub_row) == 0):\n",
    "            return path\n",
    "        min = np.min(sub_row)\n",
    "        min_indx = matrix[cur_indx].index(min)\n",
    "        readed_col.append(cur_indx)\n",
    "        cur_indx = min_indx\n",
    "        path.append(min)\n",
    "\n",
    "    return path"
   ]
  },
  {
   "cell_type": "code",
   "execution_count": 206,
   "metadata": {},
   "outputs": [
    {
     "name": "stdout",
     "output_type": "stream",
     "text": [
      "time = 40\n",
      "path = [1, 3, 16, 20]\n",
      "-------------------\n",
      "time = 27\n",
      "path = [3, 1, 3, 20]\n",
      "-------------------\n",
      "time = 24\n",
      "path = [3, 1, 3, 17]\n",
      "-------------------\n",
      "time = 37\n",
      "path = [1, 3, 16, 17]\n",
      "-------------------\n",
      "time = 35\n",
      "path = [15, 1, 3, 16]\n",
      "-------------------\n"
     ]
    }
   ],
   "source": [
    "for k in range(5):\n",
    "    path = greedySearch(P, k)\n",
    "    print('time = {0}'.format(np.sum(path)))\n",
    "    print('path = {0}'.format(path))\n",
    "    print(\"-------------------\")"
   ]
  }
 ],
 "metadata": {
  "kernelspec": {
   "display_name": "Python 3",
   "language": "python",
   "name": "python3"
  },
  "language_info": {
   "codemirror_mode": {
    "name": "ipython",
    "version": 3
   },
   "file_extension": ".py",
   "mimetype": "text/x-python",
   "name": "python",
   "nbconvert_exporter": "python",
   "pygments_lexer": "ipython3",
   "version": "3.10.9"
  },
  "orig_nbformat": 4,
  "vscode": {
   "interpreter": {
    "hash": "998369041aaf8d2cde9704fb3b5cab01646b16d66297801daa274dbb324879a7"
   }
  }
 },
 "nbformat": 4,
 "nbformat_minor": 2
}
