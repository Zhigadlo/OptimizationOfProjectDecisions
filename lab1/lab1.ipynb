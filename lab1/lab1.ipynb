{
 "cells": [
  {
   "cell_type": "code",
   "execution_count": 113,
   "metadata": {},
   "outputs": [],
   "source": [
    "import numpy as np\n",
    "import itertools\n",
    "import random as rnd"
   ]
  },
  {
   "cell_type": "code",
   "execution_count": 114,
   "metadata": {},
   "outputs": [],
   "source": [
    "alph = {\n",
    "        'a' : 1, \n",
    "        'b' : 2, \n",
    "        'c' : 3, \n",
    "        'd' : 4, \n",
    "        'e' : 5, \n",
    "        'f' : 6, \n",
    "        'g' : 7, \n",
    "        'h' : 8, \n",
    "        'i' : 9, \n",
    "        'j' : 10, \n",
    "        'k' : 11, \n",
    "        'l' : 12, \n",
    "        'm' : 13, \n",
    "        'n' : 14, \n",
    "        'o' : 15, \n",
    "        'p' : 16, \n",
    "        'q' : 17, \n",
    "        'r' : 18, \n",
    "        's' : 19, \n",
    "        't' : 20, \n",
    "        'u' : 21, \n",
    "        'v' : 22, \n",
    "        'w' : 23, \n",
    "        'x' : 24, \n",
    "        'y' : 25, \n",
    "        'z' : 26\n",
    "    }"
   ]
  },
  {
   "cell_type": "code",
   "execution_count": 115,
   "metadata": {},
   "outputs": [],
   "source": [
    "p1 = [0, alph['z'], alph['h'], alph['o'], alph['g']]\n",
    "p2 = [alph['z'], 0, alph['o'], alph['l'], alph['v']]\n",
    "p3 = [alph['h'], alph['o'], 0, alph['l'], alph['a']]\n",
    "p4 = [alph['o'], alph['l'], alph['l'], 0, alph['d']]\n",
    "p5 = [alph['g'], alph['v'], alph['a'], alph['d'], 0]\n",
    "P = np.array([p1, p2, p3, p4, p5])"
   ]
  },
  {
   "cell_type": "code",
   "execution_count": 116,
   "metadata": {},
   "outputs": [],
   "source": [
    "def greedySearch(matrix, cur_indx = 0):\n",
    "    path = [0]\n",
    "    readed_col = []\n",
    "    for _ in range(len(matrix)):\n",
    "        sub_row = np.copy(matrix[cur_indx])\n",
    "        delete_arr = []\n",
    "        for r in readed_col:\n",
    "            delete_arr.append(matrix[cur_indx][r])\n",
    "        for i in range(len(sub_row)):\n",
    "            if delete_arr.__contains__(sub_row[i]):\n",
    "                sub_row[i] = 0\n",
    "        sub_row = sub_row[np.where(sub_row != 0)]\n",
    "        if(len(sub_row) == 0):\n",
    "            path.append(0)\n",
    "            return path\n",
    "        min = np.min(sub_row)\n",
    "        min_indx = np.where(matrix[cur_indx] == min)[0][0]\n",
    "        readed_col.append(cur_indx)\n",
    "        cur_indx = min_indx\n",
    "        path.append(min)\n",
    "    path.append(0)\n",
    "    return path"
   ]
  },
  {
   "cell_type": "code",
   "execution_count": 117,
   "metadata": {},
   "outputs": [
    {
     "name": "stdout",
     "output_type": "stream",
     "text": [
      "greedy search with matrix 5x5\n",
      "time = 20\n",
      "path = [0, 7, 1, 12, 0]\n",
      "-------------------\n",
      "time = 25\n",
      "path = [0, 12, 4, 1, 8, 0]\n",
      "-------------------\n",
      "time = 46\n",
      "path = [0, 1, 4, 15, 26, 0]\n",
      "-------------------\n",
      "time = 39\n",
      "path = [0, 4, 1, 8, 26, 0]\n",
      "-------------------\n",
      "time = 24\n",
      "path = [0, 1, 8, 15, 0]\n",
      "-------------------\n"
     ]
    }
   ],
   "source": [
    "print('greedy search with matrix 5x5')\n",
    "for k in range(5):\n",
    "    path = greedySearch(P, k)\n",
    "    print('time = {0}'.format(np.sum(path)))\n",
    "    print('path = {0}'.format(path))\n",
    "    print(\"-------------------\")"
   ]
  },
  {
   "cell_type": "code",
   "execution_count": 118,
   "metadata": {},
   "outputs": [],
   "source": [
    "matrix_random = np.zeros((10, 10))\n",
    "np.fill_diagonal(matrix_random, 34)\n",
    "matrix_random.tolist()\n",
    "\n",
    "for i in range(10):\n",
    "    for j in range(10):\n",
    "        if(j <= i - 1):\n",
    "            matrix_random[i, j] = rnd.randint(1, 33)\n",
    "            matrix_random[j, i] = matrix_random[i, j]\n"
   ]
  },
  {
   "cell_type": "code",
   "execution_count": 119,
   "metadata": {},
   "outputs": [
    {
     "name": "stdout",
     "output_type": "stream",
     "text": [
      "greedy search with matrix 10x10\n",
      "time = 110.0\n",
      "path = [0, 1.0, 8.0, 4.0, 10.0, 13.0, 1.0, 12.0, 5.0, 22.0, 34.0, 0]\n"
     ]
    }
   ],
   "source": [
    "path = greedySearch(matrix_random, k)\n",
    "print('greedy search with matrix 10x10')\n",
    "print('time = {0}'.format(np.sum(path)))\n",
    "print('path = {0}'.format(path))"
   ]
  },
  {
   "cell_type": "code",
   "execution_count": 120,
   "metadata": {},
   "outputs": [],
   "source": [
    "def FullSearch(matrix):\n",
    "    path = np.arange(len(matrix))\n",
    "    path_variations = itertools.permutations(path)\n",
    "    best_path = []\n",
    "    best_time = 100000\n",
    "    for new_path in path_variations:\n",
    "        new_time = 0\n",
    "        for j in range(len(new_path)):\n",
    "            if j != len(new_path) - 1:\n",
    "                new_time += matrix[new_path[j]][new_path[j+1]]\n",
    "            else:\n",
    "                new_time += matrix[new_path[j]][new_path[0]]\n",
    "        if(new_time < best_time):\n",
    "            best_time = new_time\n",
    "            best_path = new_path\n",
    "            best_path = np.append(best_path, new_path[0])\n",
    "    \n",
    "    return best_path, best_time\n"
   ]
  },
  {
   "cell_type": "code",
   "execution_count": 121,
   "metadata": {},
   "outputs": [
    {
     "name": "stdout",
     "output_type": "stream",
     "text": [
      "full search with matrix 5x5\n",
      "time = 46\n",
      "path = [0 2 1 3 4 0]\n"
     ]
    }
   ],
   "source": [
    "path, time = FullSearch(P)\n",
    "print('full search with matrix 5x5')\n",
    "print('time = {0}'.format(time))\n",
    "print('path = {0}'.format(path))"
   ]
  }
 ],
 "metadata": {
  "kernelspec": {
   "display_name": "Python 3",
   "language": "python",
   "name": "python3"
  },
  "language_info": {
   "codemirror_mode": {
    "name": "ipython",
    "version": 3
   },
   "file_extension": ".py",
   "mimetype": "text/x-python",
   "name": "python",
   "nbconvert_exporter": "python",
   "pygments_lexer": "ipython3",
   "version": "3.10.9"
  },
  "orig_nbformat": 4,
  "vscode": {
   "interpreter": {
    "hash": "998369041aaf8d2cde9704fb3b5cab01646b16d66297801daa274dbb324879a7"
   }
  }
 },
 "nbformat": 4,
 "nbformat_minor": 2
}
